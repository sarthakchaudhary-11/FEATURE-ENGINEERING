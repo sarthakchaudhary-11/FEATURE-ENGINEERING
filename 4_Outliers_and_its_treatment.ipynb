{
  "cells": [
    {
      "cell_type": "code",
      "execution_count": null,
      "id": "827756dd",
      "metadata": {
        "id": "827756dd"
      },
      "outputs": [],
      "source": [
        "import pandas as pd\n",
        "import numpy as np\n",
        "import seaborn as sns\n",
        "import matplotlib.pyplot as plt\n",
        "\n",
        "import warnings\n",
        "warnings.filterwarnings(\"ignore\")"
      ]
    },
    {
      "cell_type": "markdown",
      "source": [],
      "metadata": {
        "id": "WqEMHXNRmxrP"
      },
      "id": "WqEMHXNRmxrP"
    },
    {
      "cell_type": "code",
      "execution_count": null,
      "id": "3e2a1b5d",
      "metadata": {
        "id": "3e2a1b5d"
      },
      "outputs": [],
      "source": [
        "\n",
        "salary = [11, 40, 45, 68, 65, 68, 78, 90, 57, 74, 91, 92, 88, 68, 57, 48, 99, 101, 68, 77, 110, 140]"
      ]
    },
    {
      "cell_type": "code",
      "execution_count": null,
      "id": "15888d5e",
      "metadata": {
        "id": "15888d5e",
        "outputId": "15495a98-d328-424a-e47c-901c9d630f97"
      },
      "outputs": [
        {
          "data": {
            "text/plain": [
              "[11,\n",
              " 40,\n",
              " 45,\n",
              " 68,\n",
              " 65,\n",
              " 68,\n",
              " 78,\n",
              " 90,\n",
              " 57,\n",
              " 74,\n",
              " 91,\n",
              " 92,\n",
              " 88,\n",
              " 68,\n",
              " 57,\n",
              " 48,\n",
              " 99,\n",
              " 101,\n",
              " 68,\n",
              " 77,\n",
              " 110,\n",
              " 140]"
            ]
          },
          "execution_count": 8,
          "metadata": {},
          "output_type": "execute_result"
        }
      ],
      "source": [
        "salary"
      ]
    },
    {
      "cell_type": "code",
      "execution_count": null,
      "id": "d50326e0",
      "metadata": {
        "id": "d50326e0"
      },
      "outputs": [],
      "source": [
        "#five point summary\n",
        "#min, 25th, 50th percentile, 75th percentile 100th percentile"
      ]
    },
    {
      "cell_type": "code",
      "execution_count": null,
      "id": "e7328146",
      "metadata": {
        "id": "e7328146",
        "outputId": "875c15e6-eb2e-49ee-f8d3-dea7ccf92055"
      },
      "outputs": [
        {
          "data": {
            "text/plain": [
              "array([ 11.  ,  59.  ,  71.  ,  90.75, 140.  ])"
            ]
          },
          "execution_count": 10,
          "metadata": {},
          "output_type": "execute_result"
        }
      ],
      "source": [
        "np.quantile(salary, [0, 0.25, 0.50, 0.75, 1])"
      ]
    },
    {
      "cell_type": "code",
      "execution_count": null,
      "id": "32b36922",
      "metadata": {
        "id": "32b36922"
      },
      "outputs": [],
      "source": [
        "df = pd.DataFrame(salary, columns = ['Salary'])"
      ]
    },
    {
      "cell_type": "code",
      "execution_count": null,
      "id": "d4c55f4b",
      "metadata": {
        "id": "d4c55f4b",
        "outputId": "ff596be1-3200-4a8c-ec0f-e715f6c901b9"
      },
      "outputs": [
        {
          "data": {
            "text/html": [
              "<div>\n",
              "<style scoped>\n",
              "    .dataframe tbody tr th:only-of-type {\n",
              "        vertical-align: middle;\n",
              "    }\n",
              "\n",
              "    .dataframe tbody tr th {\n",
              "        vertical-align: top;\n",
              "    }\n",
              "\n",
              "    .dataframe thead th {\n",
              "        text-align: right;\n",
              "    }\n",
              "</style>\n",
              "<table border=\"1\" class=\"dataframe\">\n",
              "  <thead>\n",
              "    <tr style=\"text-align: right;\">\n",
              "      <th></th>\n",
              "      <th>Salary</th>\n",
              "    </tr>\n",
              "  </thead>\n",
              "  <tbody>\n",
              "    <tr>\n",
              "      <th>count</th>\n",
              "      <td>22.000000</td>\n",
              "    </tr>\n",
              "    <tr>\n",
              "      <th>mean</th>\n",
              "      <td>74.318182</td>\n",
              "    </tr>\n",
              "    <tr>\n",
              "      <th>std</th>\n",
              "      <td>27.201867</td>\n",
              "    </tr>\n",
              "    <tr>\n",
              "      <th>min</th>\n",
              "      <td>11.000000</td>\n",
              "    </tr>\n",
              "    <tr>\n",
              "      <th>25%</th>\n",
              "      <td>59.000000</td>\n",
              "    </tr>\n",
              "    <tr>\n",
              "      <th>50%</th>\n",
              "      <td>71.000000</td>\n",
              "    </tr>\n",
              "    <tr>\n",
              "      <th>75%</th>\n",
              "      <td>90.750000</td>\n",
              "    </tr>\n",
              "    <tr>\n",
              "      <th>max</th>\n",
              "      <td>140.000000</td>\n",
              "    </tr>\n",
              "  </tbody>\n",
              "</table>\n",
              "</div>"
            ],
            "text/plain": [
              "           Salary\n",
              "count   22.000000\n",
              "mean    74.318182\n",
              "std     27.201867\n",
              "min     11.000000\n",
              "25%     59.000000\n",
              "50%     71.000000\n",
              "75%     90.750000\n",
              "max    140.000000"
            ]
          },
          "execution_count": 13,
          "metadata": {},
          "output_type": "execute_result"
        }
      ],
      "source": [
        "df.describe()"
      ]
    },
    {
      "cell_type": "code",
      "execution_count": null,
      "id": "d39a8a6c",
      "metadata": {
        "id": "d39a8a6c",
        "outputId": "01531ca7-2027-4fa0-8933-2e891ae0e108"
      },
      "outputs": [
        {
          "data": {
            "image/png": "[encoded data removed]",
            "text/plain": [
              "<Figure size 1200x500 with 2 Axes>"
            ]
          },
          "metadata": {},
          "output_type": "display_data"
        }
      ],
      "source": [
        "#To check outliers>> distplot, boxplot\n",
        "\n",
        "plt.figure(figsize = (12, 5))\n",
        "plt.subplot(1, 2, 1)\n",
        "sns.histplot(df['Salary'], kde = True)\n",
        "plt.title(\"Dist Plot\")\n",
        "\n",
        "\n",
        "plt.subplot(1, 2, 2)\n",
        "sns.boxplot(data=df, x = 'Salary')\n",
        "plt.title(\"Box plot\")\n",
        "plt.show()"
      ]
    },
    {
      "cell_type": "code",
      "execution_count": null,
      "id": "e613e3a9",
      "metadata": {
        "id": "e613e3a9"
      },
      "outputs": [],
      "source": [
        "#here the distribution is not skewed as the outliers are present on both side\n",
        "#In box plot, we see there are outliers\n",
        "\n",
        "#dropping the outlier\n",
        "\n",
        "#replace with mean and median\n",
        "\n",
        "#capping the outlier"
      ]
    },
    {
      "cell_type": "code",
      "execution_count": null,
      "id": "c4b874ae",
      "metadata": {
        "id": "c4b874ae"
      },
      "outputs": [],
      "source": [
        "#dropping the outlier"
      ]
    },
    {
      "cell_type": "code",
      "execution_count": null,
      "id": "c327b932",
      "metadata": {
        "id": "c327b932"
      },
      "outputs": [],
      "source": [
        "Q1 = df['Salary'].quantile(0.25)\n",
        "Q3 = df['Salary'].quantile(0.75)\n",
        "\n",
        "IQR = Q3-Q1\n",
        "\n",
        "lower_fence = Q1-1.5*IQR\n",
        "upper_fence = Q3+1.5*IQR"
      ]
    },
    {
      "cell_type": "code",
      "execution_count": null,
      "id": "2adadaaf",
      "metadata": {
        "id": "2adadaaf"
      },
      "outputs": [],
      "source": [
        "df_filtered = df[(df.Salary >= lower_fence) & (df.Salary <= upper_fence)]"
      ]
    },
    {
      "cell_type": "code",
      "execution_count": null,
      "id": "83d08a91",
      "metadata": {
        "id": "83d08a91",
        "outputId": "783c0278-ceab-46c4-808f-d8afd758386e"
      },
      "outputs": [
        {
          "data": {
            "text/plain": [
              "(22, 1)"
            ]
          },
          "execution_count": 21,
          "metadata": {},
          "output_type": "execute_result"
        }
      ],
      "source": [
        "df.shape"
      ]
    },
    {
      "cell_type": "code",
      "execution_count": null,
      "id": "ed7269a4",
      "metadata": {
        "id": "ed7269a4",
        "outputId": "e9f4d46b-ca8a-4c3b-d7e3-2bbd1f4fb92c"
      },
      "outputs": [
        {
          "data": {
            "text/plain": [
              "(20, 1)"
            ]
          },
          "execution_count": 22,
          "metadata": {},
          "output_type": "execute_result"
        }
      ],
      "source": [
        "df_filtered.shape"
      ]
    },
    {
      "cell_type": "code",
      "execution_count": null,
      "id": "eeb8d6a7",
      "metadata": {
        "id": "eeb8d6a7",
        "outputId": "d5bfb3bb-82f2-464d-fc40-3913798b5811"
      },
      "outputs": [
        {
          "data": {
            "image/png": "[encoded data removed]",
            "text/plain": [
              "<Figure size 1200x500 with 2 Axes>"
            ]
          },
          "metadata": {},
          "output_type": "display_data"
        }
      ],
      "source": [
        "plt.figure(figsize = (12, 5))\n",
        "plt.subplot(1, 2, 1)\n",
        "sns.histplot(df_filtered['Salary'], kde = True)\n",
        "plt.title(\"Dist Plot\")\n",
        "\n",
        "\n",
        "plt.subplot(1, 2, 2)\n",
        "sns.boxplot(data=df_filtered, x = 'Salary')\n",
        "plt.title(\"Box plot\")\n",
        "plt.show()"
      ]
    },
    {
      "cell_type": "code",
      "execution_count": null,
      "id": "2dee603d",
      "metadata": {
        "id": "2dee603d"
      },
      "outputs": [],
      "source": [
        "#imputation with mean\n",
        "df['Salary_impuuted_mean'] = np.where((df.Salary >= upper_fence) | (df.Salary <= lower_fence), df['Salary'].mean(), df['Salary'])"
      ]
    },
    {
      "cell_type": "code",
      "execution_count": null,
      "id": "981179db",
      "metadata": {
        "id": "981179db",
        "outputId": "f7534304-b594-453f-f08f-b9bb4d894c25"
      },
      "outputs": [
        {
          "data": {
            "text/html": [
              "<div>\n",
              "<style scoped>\n",
              "    .dataframe tbody tr th:only-of-type {\n",
              "        vertical-align: middle;\n",
              "    }\n",
              "\n",
              "    .dataframe tbody tr th {\n",
              "        vertical-align: top;\n",
              "    }\n",
              "\n",
              "    .dataframe thead th {\n",
              "        text-align: right;\n",
              "    }\n",
              "</style>\n",
              "<table border=\"1\" class=\"dataframe\">\n",
              "  <thead>\n",
              "    <tr style=\"text-align: right;\">\n",
              "      <th></th>\n",
              "      <th>Salary</th>\n",
              "      <th>Salary_impuuted_mean</th>\n",
              "    </tr>\n",
              "  </thead>\n",
              "  <tbody>\n",
              "    <tr>\n",
              "      <th>0</th>\n",
              "      <td>11</td>\n",
              "      <td>74.318182</td>\n",
              "    </tr>\n",
              "    <tr>\n",
              "      <th>1</th>\n",
              "      <td>40</td>\n",
              "      <td>40.000000</td>\n",
              "    </tr>\n",
              "    <tr>\n",
              "      <th>2</th>\n",
              "      <td>45</td>\n",
              "      <td>45.000000</td>\n",
              "    </tr>\n",
              "    <tr>\n",
              "      <th>3</th>\n",
              "      <td>68</td>\n",
              "      <td>68.000000</td>\n",
              "    </tr>\n",
              "    <tr>\n",
              "      <th>4</th>\n",
              "      <td>65</td>\n",
              "      <td>65.000000</td>\n",
              "    </tr>\n",
              "    <tr>\n",
              "      <th>5</th>\n",
              "      <td>68</td>\n",
              "      <td>68.000000</td>\n",
              "    </tr>\n",
              "    <tr>\n",
              "      <th>6</th>\n",
              "      <td>78</td>\n",
              "      <td>78.000000</td>\n",
              "    </tr>\n",
              "    <tr>\n",
              "      <th>7</th>\n",
              "      <td>90</td>\n",
              "      <td>90.000000</td>\n",
              "    </tr>\n",
              "    <tr>\n",
              "      <th>8</th>\n",
              "      <td>57</td>\n",
              "      <td>57.000000</td>\n",
              "    </tr>\n",
              "    <tr>\n",
              "      <th>9</th>\n",
              "      <td>74</td>\n",
              "      <td>74.000000</td>\n",
              "    </tr>\n",
              "    <tr>\n",
              "      <th>10</th>\n",
              "      <td>91</td>\n",
              "      <td>91.000000</td>\n",
              "    </tr>\n",
              "    <tr>\n",
              "      <th>11</th>\n",
              "      <td>92</td>\n",
              "      <td>92.000000</td>\n",
              "    </tr>\n",
              "    <tr>\n",
              "      <th>12</th>\n",
              "      <td>88</td>\n",
              "      <td>88.000000</td>\n",
              "    </tr>\n",
              "    <tr>\n",
              "      <th>13</th>\n",
              "      <td>68</td>\n",
              "      <td>68.000000</td>\n",
              "    </tr>\n",
              "    <tr>\n",
              "      <th>14</th>\n",
              "      <td>57</td>\n",
              "      <td>57.000000</td>\n",
              "    </tr>\n",
              "    <tr>\n",
              "      <th>15</th>\n",
              "      <td>48</td>\n",
              "      <td>48.000000</td>\n",
              "    </tr>\n",
              "    <tr>\n",
              "      <th>16</th>\n",
              "      <td>99</td>\n",
              "      <td>99.000000</td>\n",
              "    </tr>\n",
              "    <tr>\n",
              "      <th>17</th>\n",
              "      <td>101</td>\n",
              "      <td>101.000000</td>\n",
              "    </tr>\n",
              "    <tr>\n",
              "      <th>18</th>\n",
              "      <td>68</td>\n",
              "      <td>68.000000</td>\n",
              "    </tr>\n",
              "    <tr>\n",
              "      <th>19</th>\n",
              "      <td>77</td>\n",
              "      <td>77.000000</td>\n",
              "    </tr>\n",
              "    <tr>\n",
              "      <th>20</th>\n",
              "      <td>110</td>\n",
              "      <td>110.000000</td>\n",
              "    </tr>\n",
              "    <tr>\n",
              "      <th>21</th>\n",
              "      <td>140</td>\n",
              "      <td>74.318182</td>\n",
              "    </tr>\n",
              "  </tbody>\n",
              "</table>\n",
              "</div>"
            ],
            "text/plain": [
              "    Salary  Salary_impuuted_mean\n",
              "0       11             74.318182\n",
              "1       40             40.000000\n",
              "2       45             45.000000\n",
              "3       68             68.000000\n",
              "4       65             65.000000\n",
              "5       68             68.000000\n",
              "6       78             78.000000\n",
              "7       90             90.000000\n",
              "8       57             57.000000\n",
              "9       74             74.000000\n",
              "10      91             91.000000\n",
              "11      92             92.000000\n",
              "12      88             88.000000\n",
              "13      68             68.000000\n",
              "14      57             57.000000\n",
              "15      48             48.000000\n",
              "16      99             99.000000\n",
              "17     101            101.000000\n",
              "18      68             68.000000\n",
              "19      77             77.000000\n",
              "20     110            110.000000\n",
              "21     140             74.318182"
            ]
          },
          "execution_count": 25,
          "metadata": {},
          "output_type": "execute_result"
        }
      ],
      "source": [
        "df"
      ]
    },
    {
      "cell_type": "code",
      "execution_count": null,
      "id": "e24a49da",
      "metadata": {
        "id": "e24a49da",
        "outputId": "d09993dc-6417-4d59-a832-68683c80f849"
      },
      "outputs": [
        {
          "data": {
            "image/png": "[encoded data removed]",
            "text/plain": [
              "<Figure size 1200x500 with 2 Axes>"
            ]
          },
          "metadata": {},
          "output_type": "display_data"
        }
      ],
      "source": [
        "plt.figure(figsize = (12, 5))\n",
        "plt.subplot(1, 2, 1)\n",
        "sns.histplot(df['Salary_impuuted_mean'], kde = True)\n",
        "plt.title(\"Dist Plot\")\n",
        "\n",
        "\n",
        "plt.subplot(1, 2, 2)\n",
        "sns.boxplot(data=df, x = 'Salary_impuuted_mean')\n",
        "plt.title(\"Box plot\")\n",
        "plt.show()"
      ]
    },
    {
      "cell_type": "code",
      "execution_count": null,
      "id": "bc355b2a",
      "metadata": {
        "id": "bc355b2a"
      },
      "outputs": [],
      "source": [
        "#imputation with median\n",
        "df['Salary_impuuted_median'] = np.where((df.Salary >= upper_fence) | (df.Salary <= lower_fence), df['Salary'].median(), df['Salary'])"
      ]
    },
    {
      "cell_type": "code",
      "execution_count": null,
      "id": "d4be6523",
      "metadata": {
        "id": "d4be6523",
        "outputId": "0cf1f60b-3187-4091-9fb0-4ee7f20220e4"
      },
      "outputs": [
        {
          "data": {
            "text/html": [
              "<div>\n",
              "<style scoped>\n",
              "    .dataframe tbody tr th:only-of-type {\n",
              "        vertical-align: middle;\n",
              "    }\n",
              "\n",
              "    .dataframe tbody tr th {\n",
              "        vertical-align: top;\n",
              "    }\n",
              "\n",
              "    .dataframe thead th {\n",
              "        text-align: right;\n",
              "    }\n",
              "</style>\n",
              "<table border=\"1\" class=\"dataframe\">\n",
              "  <thead>\n",
              "    <tr style=\"text-align: right;\">\n",
              "      <th></th>\n",
              "      <th>Salary</th>\n",
              "      <th>Salary_impuuted_mean</th>\n",
              "      <th>Salary_impuuted_median</th>\n",
              "    </tr>\n",
              "  </thead>\n",
              "  <tbody>\n",
              "    <tr>\n",
              "      <th>0</th>\n",
              "      <td>11</td>\n",
              "      <td>74.318182</td>\n",
              "      <td>71.0</td>\n",
              "    </tr>\n",
              "    <tr>\n",
              "      <th>1</th>\n",
              "      <td>40</td>\n",
              "      <td>40.000000</td>\n",
              "      <td>40.0</td>\n",
              "    </tr>\n",
              "    <tr>\n",
              "      <th>2</th>\n",
              "      <td>45</td>\n",
              "      <td>45.000000</td>\n",
              "      <td>45.0</td>\n",
              "    </tr>\n",
              "    <tr>\n",
              "      <th>3</th>\n",
              "      <td>68</td>\n",
              "      <td>68.000000</td>\n",
              "      <td>68.0</td>\n",
              "    </tr>\n",
              "    <tr>\n",
              "      <th>4</th>\n",
              "      <td>65</td>\n",
              "      <td>65.000000</td>\n",
              "      <td>65.0</td>\n",
              "    </tr>\n",
              "    <tr>\n",
              "      <th>5</th>\n",
              "      <td>68</td>\n",
              "      <td>68.000000</td>\n",
              "      <td>68.0</td>\n",
              "    </tr>\n",
              "    <tr>\n",
              "      <th>6</th>\n",
              "      <td>78</td>\n",
              "      <td>78.000000</td>\n",
              "      <td>78.0</td>\n",
              "    </tr>\n",
              "    <tr>\n",
              "      <th>7</th>\n",
              "      <td>90</td>\n",
              "      <td>90.000000</td>\n",
              "      <td>90.0</td>\n",
              "    </tr>\n",
              "    <tr>\n",
              "      <th>8</th>\n",
              "      <td>57</td>\n",
              "      <td>57.000000</td>\n",
              "      <td>57.0</td>\n",
              "    </tr>\n",
              "    <tr>\n",
              "      <th>9</th>\n",
              "      <td>74</td>\n",
              "      <td>74.000000</td>\n",
              "      <td>74.0</td>\n",
              "    </tr>\n",
              "    <tr>\n",
              "      <th>10</th>\n",
              "      <td>91</td>\n",
              "      <td>91.000000</td>\n",
              "      <td>91.0</td>\n",
              "    </tr>\n",
              "    <tr>\n",
              "      <th>11</th>\n",
              "      <td>92</td>\n",
              "      <td>92.000000</td>\n",
              "      <td>92.0</td>\n",
              "    </tr>\n",
              "    <tr>\n",
              "      <th>12</th>\n",
              "      <td>88</td>\n",
              "      <td>88.000000</td>\n",
              "      <td>88.0</td>\n",
              "    </tr>\n",
              "    <tr>\n",
              "      <th>13</th>\n",
              "      <td>68</td>\n",
              "      <td>68.000000</td>\n",
              "      <td>68.0</td>\n",
              "    </tr>\n",
              "    <tr>\n",
              "      <th>14</th>\n",
              "      <td>57</td>\n",
              "      <td>57.000000</td>\n",
              "      <td>57.0</td>\n",
              "    </tr>\n",
              "    <tr>\n",
              "      <th>15</th>\n",
              "      <td>48</td>\n",
              "      <td>48.000000</td>\n",
              "      <td>48.0</td>\n",
              "    </tr>\n",
              "    <tr>\n",
              "      <th>16</th>\n",
              "      <td>99</td>\n",
              "      <td>99.000000</td>\n",
              "      <td>99.0</td>\n",
              "    </tr>\n",
              "    <tr>\n",
              "      <th>17</th>\n",
              "      <td>101</td>\n",
              "      <td>101.000000</td>\n",
              "      <td>101.0</td>\n",
              "    </tr>\n",
              "    <tr>\n",
              "      <th>18</th>\n",
              "      <td>68</td>\n",
              "      <td>68.000000</td>\n",
              "      <td>68.0</td>\n",
              "    </tr>\n",
              "    <tr>\n",
              "      <th>19</th>\n",
              "      <td>77</td>\n",
              "      <td>77.000000</td>\n",
              "      <td>77.0</td>\n",
              "    </tr>\n",
              "    <tr>\n",
              "      <th>20</th>\n",
              "      <td>110</td>\n",
              "      <td>110.000000</td>\n",
              "      <td>110.0</td>\n",
              "    </tr>\n",
              "    <tr>\n",
              "      <th>21</th>\n",
              "      <td>140</td>\n",
              "      <td>74.318182</td>\n",
              "      <td>71.0</td>\n",
              "    </tr>\n",
              "  </tbody>\n",
              "</table>\n",
              "</div>"
            ],
            "text/plain": [
              "    Salary  Salary_impuuted_mean  Salary_impuuted_median\n",
              "0       11             74.318182                    71.0\n",
              "1       40             40.000000                    40.0\n",
              "2       45             45.000000                    45.0\n",
              "3       68             68.000000                    68.0\n",
              "4       65             65.000000                    65.0\n",
              "5       68             68.000000                    68.0\n",
              "6       78             78.000000                    78.0\n",
              "7       90             90.000000                    90.0\n",
              "8       57             57.000000                    57.0\n",
              "9       74             74.000000                    74.0\n",
              "10      91             91.000000                    91.0\n",
              "11      92             92.000000                    92.0\n",
              "12      88             88.000000                    88.0\n",
              "13      68             68.000000                    68.0\n",
              "14      57             57.000000                    57.0\n",
              "15      48             48.000000                    48.0\n",
              "16      99             99.000000                    99.0\n",
              "17     101            101.000000                   101.0\n",
              "18      68             68.000000                    68.0\n",
              "19      77             77.000000                    77.0\n",
              "20     110            110.000000                   110.0\n",
              "21     140             74.318182                    71.0"
            ]
          },
          "execution_count": 28,
          "metadata": {},
          "output_type": "execute_result"
        }
      ],
      "source": [
        "df"
      ]
    },
    {
      "cell_type": "code",
      "execution_count": null,
      "id": "64dac73e",
      "metadata": {
        "id": "64dac73e",
        "outputId": "ea302eec-2298-45d1-e8ff-85888e906c05"
      },
      "outputs": [
        {
          "data": {
            "image/png": "[encoded data removed]",
            "text/plain": [
              "<Figure size 1200x500 with 2 Axes>"
            ]
          },
          "metadata": {},
          "output_type": "display_data"
        }
      ],
      "source": [
        "plt.figure(figsize = (12, 5))\n",
        "plt.subplot(1, 2, 1)\n",
        "sns.histplot(df['Salary_impuuted_median'], kde = True)\n",
        "plt.title(\"Dist Plot\")\n",
        "\n",
        "\n",
        "plt.subplot(1, 2, 2)\n",
        "sns.boxplot(data=df, x = 'Salary_impuuted_median')\n",
        "plt.title(\"Box plot\")\n",
        "plt.show()"
      ]
    },
    {
      "cell_type": "code",
      "execution_count": null,
      "id": "0dee1b49",
      "metadata": {
        "id": "0dee1b49",
        "outputId": "afefddf1-cd7e-4252-d119-5b9c47199e4b"
      },
      "outputs": [
        {
          "data": {
            "text/html": [
              "<div>\n",
              "<style scoped>\n",
              "    .dataframe tbody tr th:only-of-type {\n",
              "        vertical-align: middle;\n",
              "    }\n",
              "\n",
              "    .dataframe tbody tr th {\n",
              "        vertical-align: top;\n",
              "    }\n",
              "\n",
              "    .dataframe thead th {\n",
              "        text-align: right;\n",
              "    }\n",
              "</style>\n",
              "<table border=\"1\" class=\"dataframe\">\n",
              "  <thead>\n",
              "    <tr style=\"text-align: right;\">\n",
              "      <th></th>\n",
              "      <th>Salary</th>\n",
              "      <th>Salary_impuuted_mean</th>\n",
              "      <th>Salary_impuuted_median</th>\n",
              "    </tr>\n",
              "  </thead>\n",
              "  <tbody>\n",
              "    <tr>\n",
              "      <th>0</th>\n",
              "      <td>11</td>\n",
              "      <td>74.318182</td>\n",
              "      <td>71.0</td>\n",
              "    </tr>\n",
              "    <tr>\n",
              "      <th>1</th>\n",
              "      <td>40</td>\n",
              "      <td>40.000000</td>\n",
              "      <td>40.0</td>\n",
              "    </tr>\n",
              "    <tr>\n",
              "      <th>2</th>\n",
              "      <td>45</td>\n",
              "      <td>45.000000</td>\n",
              "      <td>45.0</td>\n",
              "    </tr>\n",
              "    <tr>\n",
              "      <th>3</th>\n",
              "      <td>68</td>\n",
              "      <td>68.000000</td>\n",
              "      <td>68.0</td>\n",
              "    </tr>\n",
              "    <tr>\n",
              "      <th>4</th>\n",
              "      <td>65</td>\n",
              "      <td>65.000000</td>\n",
              "      <td>65.0</td>\n",
              "    </tr>\n",
              "    <tr>\n",
              "      <th>5</th>\n",
              "      <td>68</td>\n",
              "      <td>68.000000</td>\n",
              "      <td>68.0</td>\n",
              "    </tr>\n",
              "    <tr>\n",
              "      <th>6</th>\n",
              "      <td>78</td>\n",
              "      <td>78.000000</td>\n",
              "      <td>78.0</td>\n",
              "    </tr>\n",
              "    <tr>\n",
              "      <th>7</th>\n",
              "      <td>90</td>\n",
              "      <td>90.000000</td>\n",
              "      <td>90.0</td>\n",
              "    </tr>\n",
              "    <tr>\n",
              "      <th>8</th>\n",
              "      <td>57</td>\n",
              "      <td>57.000000</td>\n",
              "      <td>57.0</td>\n",
              "    </tr>\n",
              "    <tr>\n",
              "      <th>9</th>\n",
              "      <td>74</td>\n",
              "      <td>74.000000</td>\n",
              "      <td>74.0</td>\n",
              "    </tr>\n",
              "    <tr>\n",
              "      <th>10</th>\n",
              "      <td>91</td>\n",
              "      <td>91.000000</td>\n",
              "      <td>91.0</td>\n",
              "    </tr>\n",
              "    <tr>\n",
              "      <th>11</th>\n",
              "      <td>92</td>\n",
              "      <td>92.000000</td>\n",
              "      <td>92.0</td>\n",
              "    </tr>\n",
              "    <tr>\n",
              "      <th>12</th>\n",
              "      <td>88</td>\n",
              "      <td>88.000000</td>\n",
              "      <td>88.0</td>\n",
              "    </tr>\n",
              "    <tr>\n",
              "      <th>13</th>\n",
              "      <td>68</td>\n",
              "      <td>68.000000</td>\n",
              "      <td>68.0</td>\n",
              "    </tr>\n",
              "    <tr>\n",
              "      <th>14</th>\n",
              "      <td>57</td>\n",
              "      <td>57.000000</td>\n",
              "      <td>57.0</td>\n",
              "    </tr>\n",
              "    <tr>\n",
              "      <th>15</th>\n",
              "      <td>48</td>\n",
              "      <td>48.000000</td>\n",
              "      <td>48.0</td>\n",
              "    </tr>\n",
              "    <tr>\n",
              "      <th>16</th>\n",
              "      <td>99</td>\n",
              "      <td>99.000000</td>\n",
              "      <td>99.0</td>\n",
              "    </tr>\n",
              "    <tr>\n",
              "      <th>17</th>\n",
              "      <td>101</td>\n",
              "      <td>101.000000</td>\n",
              "      <td>101.0</td>\n",
              "    </tr>\n",
              "    <tr>\n",
              "      <th>18</th>\n",
              "      <td>68</td>\n",
              "      <td>68.000000</td>\n",
              "      <td>68.0</td>\n",
              "    </tr>\n",
              "    <tr>\n",
              "      <th>19</th>\n",
              "      <td>77</td>\n",
              "      <td>77.000000</td>\n",
              "      <td>77.0</td>\n",
              "    </tr>\n",
              "    <tr>\n",
              "      <th>20</th>\n",
              "      <td>110</td>\n",
              "      <td>110.000000</td>\n",
              "      <td>110.0</td>\n",
              "    </tr>\n",
              "    <tr>\n",
              "      <th>21</th>\n",
              "      <td>140</td>\n",
              "      <td>74.318182</td>\n",
              "      <td>71.0</td>\n",
              "    </tr>\n",
              "  </tbody>\n",
              "</table>\n",
              "</div>"
            ],
            "text/plain": [
              "    Salary  Salary_impuuted_mean  Salary_impuuted_median\n",
              "0       11             74.318182                    71.0\n",
              "1       40             40.000000                    40.0\n",
              "2       45             45.000000                    45.0\n",
              "3       68             68.000000                    68.0\n",
              "4       65             65.000000                    65.0\n",
              "5       68             68.000000                    68.0\n",
              "6       78             78.000000                    78.0\n",
              "7       90             90.000000                    90.0\n",
              "8       57             57.000000                    57.0\n",
              "9       74             74.000000                    74.0\n",
              "10      91             91.000000                    91.0\n",
              "11      92             92.000000                    92.0\n",
              "12      88             88.000000                    88.0\n",
              "13      68             68.000000                    68.0\n",
              "14      57             57.000000                    57.0\n",
              "15      48             48.000000                    48.0\n",
              "16      99             99.000000                    99.0\n",
              "17     101            101.000000                   101.0\n",
              "18      68             68.000000                    68.0\n",
              "19      77             77.000000                    77.0\n",
              "20     110            110.000000                   110.0\n",
              "21     140             74.318182                    71.0"
            ]
          },
          "execution_count": 30,
          "metadata": {},
          "output_type": "execute_result"
        }
      ],
      "source": [
        "#capping >> replacing the nearest value which is not outlier\n",
        "df"
      ]
    },
    {
      "cell_type": "code",
      "execution_count": null,
      "id": "5a27697a",
      "metadata": {
        "id": "5a27697a"
      },
      "outputs": [],
      "source": [
        "lower_cap = df['Salary'].quantile(0.05) #lower cao is 5th percentile\n",
        "upper_cap = df['Salary'].quantile(0.95) #upper cap as 95th percentile"
      ]
    },
    {
      "cell_type": "code",
      "execution_count": null,
      "id": "d5eae39e",
      "metadata": {
        "id": "d5eae39e",
        "outputId": "11ea3563-88c7-40a6-be4a-d67110bd9764"
      },
      "outputs": [
        {
          "data": {
            "text/plain": [
              "40.25"
            ]
          },
          "execution_count": 32,
          "metadata": {},
          "output_type": "execute_result"
        }
      ],
      "source": [
        "lower_cap"
      ]
    },
    {
      "cell_type": "code",
      "execution_count": null,
      "id": "2f1dc6d7",
      "metadata": {
        "id": "2f1dc6d7",
        "outputId": "db0b631f-cd1a-4a0a-db4d-e15d53b4c497"
      },
      "outputs": [
        {
          "data": {
            "text/plain": [
              "109.55"
            ]
          },
          "execution_count": 33,
          "metadata": {},
          "output_type": "execute_result"
        }
      ],
      "source": [
        "upper_cap"
      ]
    },
    {
      "cell_type": "code",
      "execution_count": null,
      "id": "9a9fa141",
      "metadata": {
        "id": "9a9fa141"
      },
      "outputs": [],
      "source": [
        "#replace outliers with cap\n",
        "# where(condition, [x, y], /)\n",
        "# Return elements chosen from `x` or `y` depending on `condition`.\n",
        "#if df['Salary'] < lower_cap satisfied then lower_cap and df['Salary']>upper_cap satisfied then upper_cap\n",
        "#otherwise keep Salary as it is\n",
        "df[\"Salary_capped\"] = np.where(df['Salary'] < lower_cap, lower_cap,\n",
        "        np.where(df['Salary']>upper_cap, upper_cap, df['Salary']))"
      ]
    },
    {
      "cell_type": "code",
      "execution_count": null,
      "id": "5c1c9adb",
      "metadata": {
        "id": "5c1c9adb",
        "outputId": "baa35330-a99c-4928-cea9-9c09a8fb6ba8"
      },
      "outputs": [
        {
          "data": {
            "text/html": [
              "<div>\n",
              "<style scoped>\n",
              "    .dataframe tbody tr th:only-of-type {\n",
              "        vertical-align: middle;\n",
              "    }\n",
              "\n",
              "    .dataframe tbody tr th {\n",
              "        vertical-align: top;\n",
              "    }\n",
              "\n",
              "    .dataframe thead th {\n",
              "        text-align: right;\n",
              "    }\n",
              "</style>\n",
              "<table border=\"1\" class=\"dataframe\">\n",
              "  <thead>\n",
              "    <tr style=\"text-align: right;\">\n",
              "      <th></th>\n",
              "      <th>Salary</th>\n",
              "      <th>Salary_impuuted_mean</th>\n",
              "      <th>Salary_impuuted_median</th>\n",
              "      <th>Salary_capped</th>\n",
              "    </tr>\n",
              "  </thead>\n",
              "  <tbody>\n",
              "    <tr>\n",
              "      <th>0</th>\n",
              "      <td>11</td>\n",
              "      <td>74.318182</td>\n",
              "      <td>71.0</td>\n",
              "      <td>40.25</td>\n",
              "    </tr>\n",
              "    <tr>\n",
              "      <th>1</th>\n",
              "      <td>40</td>\n",
              "      <td>40.000000</td>\n",
              "      <td>40.0</td>\n",
              "      <td>40.25</td>\n",
              "    </tr>\n",
              "    <tr>\n",
              "      <th>2</th>\n",
              "      <td>45</td>\n",
              "      <td>45.000000</td>\n",
              "      <td>45.0</td>\n",
              "      <td>45.00</td>\n",
              "    </tr>\n",
              "    <tr>\n",
              "      <th>3</th>\n",
              "      <td>68</td>\n",
              "      <td>68.000000</td>\n",
              "      <td>68.0</td>\n",
              "      <td>68.00</td>\n",
              "    </tr>\n",
              "    <tr>\n",
              "      <th>4</th>\n",
              "      <td>65</td>\n",
              "      <td>65.000000</td>\n",
              "      <td>65.0</td>\n",
              "      <td>65.00</td>\n",
              "    </tr>\n",
              "    <tr>\n",
              "      <th>5</th>\n",
              "      <td>68</td>\n",
              "      <td>68.000000</td>\n",
              "      <td>68.0</td>\n",
              "      <td>68.00</td>\n",
              "    </tr>\n",
              "    <tr>\n",
              "      <th>6</th>\n",
              "      <td>78</td>\n",
              "      <td>78.000000</td>\n",
              "      <td>78.0</td>\n",
              "      <td>78.00</td>\n",
              "    </tr>\n",
              "    <tr>\n",
              "      <th>7</th>\n",
              "      <td>90</td>\n",
              "      <td>90.000000</td>\n",
              "      <td>90.0</td>\n",
              "      <td>90.00</td>\n",
              "    </tr>\n",
              "    <tr>\n",
              "      <th>8</th>\n",
              "      <td>57</td>\n",
              "      <td>57.000000</td>\n",
              "      <td>57.0</td>\n",
              "      <td>57.00</td>\n",
              "    </tr>\n",
              "    <tr>\n",
              "      <th>9</th>\n",
              "      <td>74</td>\n",
              "      <td>74.000000</td>\n",
              "      <td>74.0</td>\n",
              "      <td>74.00</td>\n",
              "    </tr>\n",
              "    <tr>\n",
              "      <th>10</th>\n",
              "      <td>91</td>\n",
              "      <td>91.000000</td>\n",
              "      <td>91.0</td>\n",
              "      <td>91.00</td>\n",
              "    </tr>\n",
              "    <tr>\n",
              "      <th>11</th>\n",
              "      <td>92</td>\n",
              "      <td>92.000000</td>\n",
              "      <td>92.0</td>\n",
              "      <td>92.00</td>\n",
              "    </tr>\n",
              "    <tr>\n",
              "      <th>12</th>\n",
              "      <td>88</td>\n",
              "      <td>88.000000</td>\n",
              "      <td>88.0</td>\n",
              "      <td>88.00</td>\n",
              "    </tr>\n",
              "    <tr>\n",
              "      <th>13</th>\n",
              "      <td>68</td>\n",
              "      <td>68.000000</td>\n",
              "      <td>68.0</td>\n",
              "      <td>68.00</td>\n",
              "    </tr>\n",
              "    <tr>\n",
              "      <th>14</th>\n",
              "      <td>57</td>\n",
              "      <td>57.000000</td>\n",
              "      <td>57.0</td>\n",
              "      <td>57.00</td>\n",
              "    </tr>\n",
              "    <tr>\n",
              "      <th>15</th>\n",
              "      <td>48</td>\n",
              "      <td>48.000000</td>\n",
              "      <td>48.0</td>\n",
              "      <td>48.00</td>\n",
              "    </tr>\n",
              "    <tr>\n",
              "      <th>16</th>\n",
              "      <td>99</td>\n",
              "      <td>99.000000</td>\n",
              "      <td>99.0</td>\n",
              "      <td>99.00</td>\n",
              "    </tr>\n",
              "    <tr>\n",
              "      <th>17</th>\n",
              "      <td>101</td>\n",
              "      <td>101.000000</td>\n",
              "      <td>101.0</td>\n",
              "      <td>101.00</td>\n",
              "    </tr>\n",
              "    <tr>\n",
              "      <th>18</th>\n",
              "      <td>68</td>\n",
              "      <td>68.000000</td>\n",
              "      <td>68.0</td>\n",
              "      <td>68.00</td>\n",
              "    </tr>\n",
              "    <tr>\n",
              "      <th>19</th>\n",
              "      <td>77</td>\n",
              "      <td>77.000000</td>\n",
              "      <td>77.0</td>\n",
              "      <td>77.00</td>\n",
              "    </tr>\n",
              "    <tr>\n",
              "      <th>20</th>\n",
              "      <td>110</td>\n",
              "      <td>110.000000</td>\n",
              "      <td>110.0</td>\n",
              "      <td>109.55</td>\n",
              "    </tr>\n",
              "    <tr>\n",
              "      <th>21</th>\n",
              "      <td>140</td>\n",
              "      <td>74.318182</td>\n",
              "      <td>71.0</td>\n",
              "      <td>109.55</td>\n",
              "    </tr>\n",
              "  </tbody>\n",
              "</table>\n",
              "</div>"
            ],
            "text/plain": [
              "    Salary  Salary_impuuted_mean  Salary_impuuted_median  Salary_capped\n",
              "0       11             74.318182                    71.0          40.25\n",
              "1       40             40.000000                    40.0          40.25\n",
              "2       45             45.000000                    45.0          45.00\n",
              "3       68             68.000000                    68.0          68.00\n",
              "4       65             65.000000                    65.0          65.00\n",
              "5       68             68.000000                    68.0          68.00\n",
              "6       78             78.000000                    78.0          78.00\n",
              "7       90             90.000000                    90.0          90.00\n",
              "8       57             57.000000                    57.0          57.00\n",
              "9       74             74.000000                    74.0          74.00\n",
              "10      91             91.000000                    91.0          91.00\n",
              "11      92             92.000000                    92.0          92.00\n",
              "12      88             88.000000                    88.0          88.00\n",
              "13      68             68.000000                    68.0          68.00\n",
              "14      57             57.000000                    57.0          57.00\n",
              "15      48             48.000000                    48.0          48.00\n",
              "16      99             99.000000                    99.0          99.00\n",
              "17     101            101.000000                   101.0         101.00\n",
              "18      68             68.000000                    68.0          68.00\n",
              "19      77             77.000000                    77.0          77.00\n",
              "20     110            110.000000                   110.0         109.55\n",
              "21     140             74.318182                    71.0         109.55"
            ]
          },
          "execution_count": 35,
          "metadata": {},
          "output_type": "execute_result"
        }
      ],
      "source": [
        "df"
      ]
    },
    {
      "cell_type": "code",
      "execution_count": null,
      "id": "a45e716c",
      "metadata": {
        "id": "a45e716c",
        "outputId": "1d7d068a-46cf-4a77-8fdc-12cea0f4ea12"
      },
      "outputs": [
        {
          "data": {
            "image/png": "[encoded data removed]",
            "text/plain": [
              "<Figure size 1200x500 with 2 Axes>"
            ]
          },
          "metadata": {},
          "output_type": "display_data"
        }
      ],
      "source": [
        "plt.figure(figsize = (12, 5))\n",
        "plt.subplot(1, 2, 1)\n",
        "sns.histplot(df['Salary_capped'], kde = True)\n",
        "plt.title(\"Dist Plot\")\n",
        "\n",
        "\n",
        "plt.subplot(1, 2, 2)\n",
        "sns.boxplot(data=df, x = 'Salary_capped')\n",
        "plt.title(\"Box plot\")\n",
        "plt.show()"
      ]
    },
    {
      "cell_type": "code",
      "execution_count": null,
      "id": "b7b4c937",
      "metadata": {
        "id": "b7b4c937"
      },
      "outputs": [],
      "source": []
    }
  ],
  "metadata": {
    "kernelspec": {
      "display_name": "Python 3 (ipykernel)",
      "language": "python",
      "name": "python3"
    },
    "language_info": {
      "codemirror_mode": {
        "name": "ipython",
        "version": 3
      },
      "file_extension": ".py",
      "mimetype": "text/x-python",
      "name": "python",
      "nbconvert_exporter": "python",
      "pygments_lexer": "ipython3",
      "version": "3.11.4"
    },
    "colab": {
      "provenance": []
    }
  },
  "nbformat": 4,
  "nbformat_minor": 5
}